{
 "cells": [
  {
   "cell_type": "markdown",
   "metadata": {},
   "source": [
    "# Gathering COVID Data"
   ]
  },
  {
   "cell_type": "code",
   "execution_count": 1,
   "metadata": {},
   "outputs": [],
   "source": [
    "import csv\n",
    "import requests\n",
    "import pandas as pd\n",
    "import numpy as np\n",
    "import urllib.request\n",
    "import codecs"
   ]
  },
  {
   "cell_type": "markdown",
   "metadata": {},
   "source": [
    "## Define URLs"
   ]
  },
  {
   "cell_type": "code",
   "execution_count": null,
   "metadata": {},
   "outputs": [],
   "source": [
    "base_url = 'http://coronavirusapi.com/getTimeSeries/'\n",
    "state = [\"AL\", \"AK\", \"AZ\", \"AR\", \"CA\", \"CO\", \"CT\", \"DC\", \n",
    "         \"DE\", \"FL\", \"GA\", \"HI\", \"ID\", \"IL\", \"IN\", \"IA\", \n",
    "         \"KS\", \"KY\", \"LA\", \"ME\", \"MD\", \"MA\", \"MI\", \"MN\", \n",
    "         \"MS\", \"MO\", \"MT\", \"NE\", \"NV\", \"NH\", \"NJ\", \"NM\", \n",
    "         \"NY\", \"NC\", \"ND\", \"OH\", \"OK\", \"OR\", \"PA\", \"RI\", \n",
    "         \"SC\", \"SD\", \"TN\", \"TX\", \"UT\", \"VT\", \"VA\", \"WA\", \n",
    "         \"WV\", \"WI\", \"WY\"]\n",
    "master_list = []"
   ]
  },
  {
   "cell_type": "markdown",
   "metadata": {},
   "source": [
    "## Define Functions"
   ]
  },
  {
   "cell_type": "code",
   "execution_count": null,
   "metadata": {},
   "outputs": [],
   "source": [
    "# Because the dataset uses seconds from Unix Epoch date, function returns datetime, from floationg point value.\n",
    "def epochConverter(num):\n",
    "    days = num/3600/24\n",
    "    date = pd.to_datetime('01-01-1970') + pd.DateOffset(days=days)\n",
    "    return date"
   ]
  },
  {
   "cell_type": "markdown",
   "metadata": {},
   "source": [
    "## Make API Calls"
   ]
  },
  {
   "cell_type": "code",
   "execution_count": null,
   "metadata": {},
   "outputs": [],
   "source": [
    "# Outer for loop opens url and converts each call for state from bytestring to something readable.\n",
    "for state_url in state:\n",
    "    state_response = urllib.request.urlopen(base_url+state_url)\n",
    "    csvfile = csv.reader(codecs.iterdecode(state_response, 'utf-8'))\n",
    "\n",
    "    #inner loop iterates over each row in the returned .csv from API and appends in list\n",
    "    for row in csvfile:\n",
    "        #because the API is returning headers as well for each call, the if statement removes the header line.\n",
    "        if row[0] != 'seconds_since_Epoch':\n",
    "            master_list.append({'State': state_url,\n",
    "                             'Date': epochConverter(float(row[0])),\n",
    "                             'Tested': float(row[1]),\n",
    "                             'Positive': float(row[2]),\n",
    "                             'Deaths': float(row[3]),\n",
    "                             })  "
   ]
  },
  {
   "cell_type": "markdown",
   "metadata": {},
   "source": [
    "## Build Dataframe and Export to CSV File"
   ]
  },
  {
   "cell_type": "code",
   "execution_count": null,
   "metadata": {},
   "outputs": [],
   "source": [
    "#convert list of dictionaries into a dataframe\n",
    "covid_state_df = pd.DataFrame(master_list)\n",
    "covid_state_df"
   ]
  },
  {
   "cell_type": "code",
   "execution_count": null,
   "metadata": {},
   "outputs": [],
   "source": [
    "# Create new dataframe with just the most recent values.\n",
    "recent_date_df = covid_state_df.groupby('State').max()\n",
    "recent_date_df = recent_date_df.reset_index()\n",
    "recent_date_df.head()"
   ]
  },
  {
   "cell_type": "markdown",
   "metadata": {},
   "source": [
    "## Calculate Case Fatality Rate"
   ]
  },
  {
   "cell_type": "code",
   "execution_count": null,
   "metadata": {},
   "outputs": [],
   "source": [
    "recent_date_df[\"Mortality Rate\"] = ((recent_date_df[\"Deaths\"]) / (recent_date_df[\"Positive\"])) * 100\n",
    "recent_date_df.to_csv(\"Resources/covid_api_data.csv\")"
   ]
  }
 ],
 "metadata": {
  "kernelspec": {
   "display_name": "Python 3",
   "language": "python",
   "name": "python3"
  },
  "language_info": {
   "codemirror_mode": {
    "name": "ipython",
    "version": 3
   },
   "file_extension": ".py",
   "mimetype": "text/x-python",
   "name": "python",
   "nbconvert_exporter": "python",
   "pygments_lexer": "ipython3",
   "version": "3.7.6"
  }
 },
 "nbformat": 4,
 "nbformat_minor": 4
}
